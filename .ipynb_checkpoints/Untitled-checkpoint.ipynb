{
 "cells": [
  {
   "cell_type": "code",
   "execution_count": 244,
   "id": "526bc473",
   "metadata": {},
   "outputs": [
    {
     "name": "stdout",
     "output_type": "stream",
     "text": [
      "[[ 0.000000e+00  0.000000e+00  0.000000e+00]\n",
      " [ 0.000000e+00  0.000000e+00  0.000000e+00]\n",
      " [-6.123234e-16  0.000000e+00 -5.000000e+00]]\n"
     ]
    }
   ],
   "source": [
    "import math\n",
    "from math import log2\n",
    "from math import sin, cos\n",
    "import numpy as np\n",
    "from numpy import dot\n",
    "import matplotlib.pyplot as plt\n",
    "\n",
    "def rotX(t):\n",
    "    return dot([[1, 0, 0], [0, cos(t), -sin(t)], [0, sin(t), cos(t)]], np.identity(3))\n",
    "    \n",
    "def rotY(t):\n",
    "    return dot([[cos(t), 0, sin(t)], [0, 1, 0], [-sin(t), 0, cos(t)]], np.identity(3))\n",
    "    \n",
    "def rotZ(t):\n",
    "    return dot([[cos(t), sin(t), 0], [-sin(t), cos(t), 0], [0, 0, 1]], np.identity(3))\n",
    "    \n",
    "def Desp(x, y, z):\n",
    "    return dot([[0, 0, x], [0, 0, y], [0, 0, z]], np.identity(3))\n",
    "\n",
    "\n",
    "T_ab = []\n",
    "T_ab = dot(Desp(0,0,5), rotY(math.pi))\n",
    "\n",
    "print(T_ab)"
   ]
  }
 ],
 "metadata": {
  "kernelspec": {
   "display_name": "Python 3 (ipykernel)",
   "language": "python",
   "name": "python3"
  },
  "language_info": {
   "codemirror_mode": {
    "name": "ipython",
    "version": 3
   },
   "file_extension": ".py",
   "mimetype": "text/x-python",
   "name": "python",
   "nbconvert_exporter": "python",
   "pygments_lexer": "ipython3",
   "version": "3.9.7"
  }
 },
 "nbformat": 4,
 "nbformat_minor": 5
}
